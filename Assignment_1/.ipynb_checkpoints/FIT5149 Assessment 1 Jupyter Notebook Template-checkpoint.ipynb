{
 "cells": [
  {
   "cell_type": "markdown",
   "metadata": {},
   "source": [
    "# FIT5149 S2 2019 Assessment 1: \n",
    "# Predicting the Critical Temperature of a Superconductor\n",
    "\n",
    "\n",
    "Student information\n",
    "- Family Name: Shibo\n",
    "- Given Name: Li\n",
    "- Student ID: 29874874\n",
    "- Student email: slii0085@student.monash.edu\n",
    "\n",
    "Programming Language: R 3.6.1 in Jupyter Notebook\n",
    "\n",
    "R Libraries used:\n",
    "- ggplot2\n",
    "- reshape2\n",
    "- h2o\n",
    "- stats\n",
    "- scales\n",
    "- grid\n",
    "- gridExtra\n",
    "- RColorBrewer"
   ]
  },
  {
   "cell_type": "code",
   "execution_count": 1,
   "metadata": {},
   "outputs": [
    {
     "name": "stderr",
     "output_type": "stream",
     "text": [
      "\n",
      "----------------------------------------------------------------------\n",
      "\n",
      "Your next step is to start H2O:\n",
      "    > h2o.init()\n",
      "\n",
      "For H2O package documentation, ask for help:\n",
      "    > ??h2o\n",
      "\n",
      "After starting H2O, you can use the Web UI at http://localhost:54321\n",
      "For more information visit http://docs.h2o.ai\n",
      "\n",
      "----------------------------------------------------------------------\n",
      "\n",
      "\n",
      "Attaching package: ‘h2o’\n",
      "\n",
      "The following objects are masked from ‘package:stats’:\n",
      "\n",
      "    cor, sd, var\n",
      "\n",
      "The following objects are masked from ‘package:base’:\n",
      "\n",
      "    %*%, %in%, &&, apply, as.factor, as.numeric, colnames, colnames<-,\n",
      "    ifelse, is.character, is.factor, is.numeric, log, log10, log1p,\n",
      "    log2, round, signif, trunc, ||\n",
      "\n"
     ]
    }
   ],
   "source": [
    "library(ggplot2)\n",
    "library(reshape2)\n",
    "library(h2o)\n",
    "library(stats)\n",
    "library(scales)\n",
    "library(grid)\n",
    "library(gridExtra)\n",
    "library(RColorBrewer) "
   ]
  },
  {
   "cell_type": "markdown",
   "metadata": {},
   "source": [
    "## Table of Contents\n",
    "\n",
    "* [Introduction](#sec_1)\n",
    "* [Data Exploration](#sec_2)\n",
    "* [Model Development](#sec_3)\n",
    "* [Model Comparison](#sec_4)\n",
    "* [Variable Identification and Explanation](#sec_5)\n",
    "* [Conclusion](#sec_6)\n",
    "* [References](#sec_7)"
   ]
  },
  {
   "cell_type": "markdown",
   "metadata": {},
   "source": [
    "## 1. Introduction <a class=\"anchor\" id=\"sec_1\"></a>"
   ]
  },
  {
   "cell_type": "markdown",
   "metadata": {},
   "source": [
    "This report talks about the predicting models performed on a set of **Critical Temperature of Superconductor** to predict the critical temperature based on statistical model. The target of the report is to build 2 or 3 models from `train.csv` data set, which describe properties of `Superconductor` to predict the sales **Critical Temperature**.\n",
    "\n",
    "`Data Exploration` section shows some graphs, which are used  to explore and understand the data. For each attribute (variable) in the data, plotting and calculating some parameters to understand the relationship between variables, especially the **correlation** between variables. Considering there are too many features, examining the correlations between the variables through visual analysis will be employted. \n",
    "* Correlation: $r(x,y) = \\frac{Cov(x,y)}{\\sqrt{(Var[x]*Var[y])}}$\n",
    "\n",
    "The `Model Development` section shows three return models. In this section, by presenting the contribution of the process and parameters of the build model to the model, it presents the process from the initial model to the final model and prepares for the next step of `Model Comparison`.\n",
    "\n",
    "`Model Comparison` section will compare the model mentioned in the previous section. The main comparison will focus on:\n",
    "* The sum of squares due to error or Coefficient of determination\n",
    "    * $SSE = \\sum(y_{predict}-y_{actual})^2$\n",
    "    * $R^2 = 1-\\frac{\\sum(y_{predict}-y_{actual})^2}{\\sum(y_{actual}-y_{mean})^2}$\n",
    "\n",
    "The section of `Variable Identification and Explanation` will discuss the contribution of the selected variables to the predicted values. And combined with relevant papers to explain the reasons. Including but not limited to statistics, it is also explained in terms of literature in the field of physics.\n",
    "\n",
    "`Conclusion` section will summarize the report.\n",
    "\n",
    "The data sets in the report are:\n",
    "1. 'train.csv' data set is from the *Superconducting Material Database* maintained by **JNIMS**, with 21263 observations and 82 columns, which cover 8 properties and 1 for elements numbers and the other for the *critical temperature*.\n",
    "2. 'unique_m.csv' tells the chemical formula of each materials."
   ]
  },
  {
   "cell_type": "markdown",
   "metadata": {},
   "source": [
    "## 2. Data Exploration<a class=\"anchor\" id=\"sec_2\"></a>"
   ]
  },
  {
   "cell_type": "markdown",
   "metadata": {},
   "source": [
    "### 2.1 Overview the 'train.csv' data set"
   ]
  },
  {
   "cell_type": "code",
   "execution_count": 2,
   "metadata": {},
   "outputs": [
    {
     "name": "stderr",
     "output_type": "stream",
     "text": [
      "Warning message in file(file, \"rt\"):\n",
      "“无法打开文件'train.csv': No such file or directory”"
     ]
    },
    {
     "ename": "ERROR",
     "evalue": "Error in file(file, \"rt\"): 无法打开链结\n",
     "output_type": "error",
     "traceback": [
      "Error in file(file, \"rt\"): 无法打开链结\nTraceback:\n",
      "1. read.csv(\"train.csv\")",
      "2. read.table(file = file, header = header, sep = sep, quote = quote, \n .     dec = dec, fill = fill, comment.char = comment.char, ...)",
      "3. file(file, \"rt\")"
     ]
    }
   ],
   "source": [
    "## Read the data set into environment\n",
    "ct.data <- read.csv('train.csv')"
   ]
  },
  {
   "cell_type": "code",
   "execution_count": null,
   "metadata": {},
   "outputs": [],
   "source": []
  },
  {
   "cell_type": "markdown",
   "metadata": {},
   "source": [
    "## 3. Model Development<a class=\"anchor\" id=\"sec_3\"></a>"
   ]
  },
  {
   "cell_type": "code",
   "execution_count": null,
   "metadata": {},
   "outputs": [],
   "source": []
  },
  {
   "cell_type": "code",
   "execution_count": null,
   "metadata": {},
   "outputs": [],
   "source": []
  },
  {
   "cell_type": "markdown",
   "metadata": {},
   "source": [
    "## 4. Model Comparison<a class=\"anchor\" id=\"sec_4\"></a>"
   ]
  },
  {
   "cell_type": "code",
   "execution_count": null,
   "metadata": {},
   "outputs": [],
   "source": []
  },
  {
   "cell_type": "code",
   "execution_count": null,
   "metadata": {},
   "outputs": [],
   "source": []
  },
  {
   "cell_type": "markdown",
   "metadata": {},
   "source": [
    "## 5. Variable Identification and Explanation <a class=\"anchor\" id=\"sec_5\"></a>"
   ]
  },
  {
   "cell_type": "code",
   "execution_count": null,
   "metadata": {},
   "outputs": [],
   "source": []
  },
  {
   "cell_type": "code",
   "execution_count": null,
   "metadata": {},
   "outputs": [],
   "source": []
  },
  {
   "cell_type": "markdown",
   "metadata": {},
   "source": [
    "## 6. Conclusion <a class=\"anchor\" id=\"sec_6\"></a>"
   ]
  },
  {
   "cell_type": "code",
   "execution_count": null,
   "metadata": {},
   "outputs": [],
   "source": []
  },
  {
   "cell_type": "code",
   "execution_count": null,
   "metadata": {},
   "outputs": [],
   "source": []
  },
  {
   "cell_type": "markdown",
   "metadata": {},
   "source": [
    "## 7. References <a class=\"anchor\" id=\"sec_7\"></a>"
   ]
  },
  {
   "cell_type": "code",
   "execution_count": null,
   "metadata": {},
   "outputs": [],
   "source": []
  }
 ],
 "metadata": {
  "kernelspec": {
   "display_name": "R",
   "language": "R",
   "name": "ir"
  },
  "language_info": {
   "codemirror_mode": "r",
   "file_extension": ".r",
   "mimetype": "text/x-r-source",
   "name": "R",
   "pygments_lexer": "r",
   "version": "3.6.1"
  }
 },
 "nbformat": 4,
 "nbformat_minor": 2
}
